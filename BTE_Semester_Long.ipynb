{
  "nbformat": 4,
  "nbformat_minor": 0,
  "metadata": {
    "colab": {
      "provenance": [],
      "include_colab_link": true
    },
    "kernelspec": {
      "name": "python3",
      "display_name": "Python 3"
    },
    "language_info": {
      "name": "python"
    }
  },
  "cells": [
    {
      "cell_type": "markdown",
      "metadata": {
        "id": "view-in-github",
        "colab_type": "text"
      },
      "source": [
        "<a href=\"https://colab.research.google.com/github/teb61892/BTE320-Semester-Long/blob/main/BTE_Semester_Long.ipynb\" target=\"_parent\"><img src=\"https://colab.research.google.com/assets/colab-badge.svg\" alt=\"Open In Colab\"/></a>"
      ]
    },
    {
      "cell_type": "code",
      "execution_count": null,
      "metadata": {
        "id": "xrEQA7YJvRn9"
      },
      "outputs": [],
      "source": [
        "\n",
        "import random\n",
        "pc_choice = random.choice([\"Rock\",\"Paper\",\"Scissors\"])\n",
        "beginning_input = input(\"Do you want to play Rock Paper Scissors? Y/N \")\n",
        "while beginning_input == \"Y\":\n",
        "  user_choice = input(\"Enter Rock, Paper, or Scissors: \")\n",
        "  print('PC chooses:',pc_choice)\n",
        "  print('User chooses:',user_choice)\n",
        "  if pc_choice == \"Rock\" and user_choice == \"Paper\":\n",
        "      print(\"User wins\")\n",
        "  elif pc_choice == \"Rock\" and user_choice == \"Scissors\":\n",
        "      print(\"PC wins\")\n",
        "  elif pc_choice == \"Paper\" and user_choice == \"Rock\":\n",
        "      print(\"PC wins\")\n",
        "  elif pc_choice == \"Scissors\" and user_choice == \"Paper\":\n",
        "      print(\"PC wins\")\n",
        "  elif pc_choice == \"Paper\" and user_choice == \"Scissors\":\n",
        "      print(\"User wins\")\n",
        "  elif pc_choice == \"Scissors\" and user_choice == \"Rock\":\n",
        "      print(\"User wins\")\n",
        "  elif pc_choice == user_choice:\n",
        "      print(\"It's a tie\")\n",
        "  beginning_input = input(\"Do you want to play again? Y/N \")\n",
        "if beginning_input == \"N\":\n",
        "  print('Have a nice day.')\n"
      ]
    },
    {
      "cell_type": "code",
      "source": [
        "\n",
        "year = int(input(\"Enter a year: \"))\n",
        "if year%4 == 0 and year%100 != 0:\n",
        "  print(\"Leap year\")\n",
        "elif year%4 == 0 and year%100 == 0 and year%400 == 0:\n",
        "  print(\"Leap year\")\n",
        "elif year%4 != 0 or year%400 != 0:\n",
        "  print(\"Not a leap year\")\n",
        "\n",
        "\n"
      ],
      "metadata": {
        "id": "m2sbiimf3MB5"
      },
      "execution_count": null,
      "outputs": []
    },
    {
      "cell_type": "code",
      "source": [
        "\n",
        "for i in range(1,9,1):\n",
        "  if i < 3:\n",
        "    print(i, 10)\n",
        "  if i == 3:\n",
        "    print(i, 12.5)\n",
        "  if i == 4:\n",
        "    print(i,15)\n",
        "  if i == 5:\n",
        "    print(i,17.5)\n",
        "  if i > 5:\n",
        "    print(i, 20)"
      ],
      "metadata": {
        "id": "pLhF7aFZtO8T"
      },
      "execution_count": null,
      "outputs": []
    },
    {
      "cell_type": "code",
      "source": [
        "\n",
        "while True:\n",
        "  number1 = float(input(\"Enter the first number: \"))\n",
        "  number2 = float(input(\"Enter the second number: \"))\n",
        "  operator = (input(\"Enter a mathematical operator symbol or word, or break: \"))\n",
        "\n",
        "  if operator.lower() == 'break':\n",
        "    print(\"Goodbye!\")\n",
        "    break\n",
        "\n",
        "  elif operator == '+' or operator == 'Addition':\n",
        "    answer = (number1 + number2)\n",
        "    print(answer)\n",
        "\n",
        "  elif operator == '-' or operator == 'Subtraction':\n",
        "    answer = (number1 - number2)\n",
        "    print(answer)\n",
        "\n",
        "  elif operator == '*' or operator == 'Multiplication':\n",
        "    answer = (number1*number2)\n",
        "    print(answer)\n",
        "\n",
        "  elif operator == '/' or operator == 'Division':\n",
        "    answer = (number1/number2)\n",
        "    print(answer)\n",
        "\n",
        "  elif operator == '//' or operator == 'Floor Division':\n",
        "    answer = (number1//number2)\n",
        "    print(answer)\n",
        "\n",
        "  elif operator == '**' or operator == 'Power':\n",
        "    answer = (number1**number2)\n",
        "    print(answer)\n",
        "\n",
        "  elif operator == '%' or operator == 'Modulus':\n",
        "    answer = (number1%number2)\n",
        "    print(answer)\n",
        "\n",
        "  else:\n",
        "    print('Invalid operator')\n",
        "    continue\n",
        "\n",
        "\n"
      ],
      "metadata": {
        "id": "fZWmHS5wtPy1"
      },
      "execution_count": null,
      "outputs": []
    },
    {
      "cell_type": "code",
      "source": [
        "\n",
        "s = str(input(\"Enter a date in the format MM/DD/YYYY: \"))\n",
        "month = s[0:2]\n",
        "day = s[3:5]\n",
        "year = s[6:]\n",
        "if month == \"01\":\n",
        "  month2 = \"January\"\n",
        "if month == \"02\":\n",
        "  month2 = \"February\"\n",
        "if month == \"03\":\n",
        "  month2 = \"March\"\n",
        "if month == \"04\":\n",
        "  month2 = \"April\"\n",
        "if month == \"05\":\n",
        "  month2 = \"May\"\n",
        "if month == \"06\":\n",
        "  month2 = \"June\"\n",
        "if month == \"07\":\n",
        "  month2 = \"July\"\n",
        "if month == \"08\":\n",
        "  month2 = \"August\"\n",
        "if month == \"09\":\n",
        "  month2 = \"September\"\n",
        "if month == \"10\":\n",
        "  month2 = \"October\"\n",
        "if month == \"11\":\n",
        "  month2 = \"November\"\n",
        "if month == \"12\":\n",
        "  month2 = \"December\"\n",
        "print(f\"The month is {month2}, the day is {day}, the year is {year}\")"
      ],
      "metadata": {
        "id": "VLU7_ghNw4m9"
      },
      "execution_count": null,
      "outputs": []
    },
    {
      "cell_type": "code",
      "source": [
        "\n",
        "L = []\n",
        "\n",
        "number = int(input('Enter a value: '))\n",
        "\n",
        "while True:\n",
        "  if number != 0:\n",
        "   L.append(number)\n",
        "   print(L)\n",
        "   number = int(input('Enter a value: '))\n",
        "  if number == 0:\n",
        "    print(L)\n",
        "    break"
      ],
      "metadata": {
        "id": "o25vHHjIA1tR"
      },
      "execution_count": null,
      "outputs": []
    },
    {
      "cell_type": "code",
      "source": [
        "\n",
        "def rev(n):\n",
        "  if len(n) == 1:\n",
        "    return n\n",
        "  else:\n",
        "    return n[-1] + rev(n[:-1])\n",
        "\n",
        "\n",
        "s='Hello'\n",
        "\n",
        "print(rev(s),end='')\n",
        "\n"
      ],
      "metadata": {
        "id": "UFDzVTljAor2"
      },
      "execution_count": null,
      "outputs": []
    },
    {
      "cell_type": "code",
      "source": [
        "try:\n",
        "  a = float(input(\"Enter a numerator: \"))\n",
        "  b = float(input(\"Enter a denominator: \"))\n",
        "  print(a/b)\n",
        "  print(\"Division complete\")\n",
        "except ZeroDivisionError:\n",
        "  print(\"Denominator cannot be zero\")\n",
        "except ValueError:\n",
        "  print(\"Incompatible input type\")\n",
        "except:\n",
        "  print(\"Unknown error\")\n",
        "\n",
        "print(\"Program ends.\")"
      ],
      "metadata": {
        "id": "Ha2g_S_bwq8r"
      },
      "execution_count": null,
      "outputs": []
    },
    {
      "cell_type": "code",
      "source": [
        "l = [1,2,3,4,5,6,7,8,9,10]\n",
        "\n",
        "def ListAverage(n):\n",
        "  try:\n",
        "    return sum(n)/len(n)\n",
        "  except TypeError:\n",
        "    print(\"List must only contain numbers\")\n",
        "    return None\n",
        "  except ZeroDivisionError:\n",
        "    print(\"List is empty\")\n",
        "    return float('nan')\n",
        "  except:\n",
        "    print(\"Unknown error\")\n",
        "    return None\n",
        "\n",
        "\n",
        "ListAverage(l)\n"
      ],
      "metadata": {
        "id": "Ytqonwxo2mUO"
      },
      "execution_count": null,
      "outputs": []
    },
    {
      "cell_type": "code",
      "source": [
        "class Animal:\n",
        "  def __init__(self, dims, weight, life_exp):\n",
        "    self.dims = dims\n",
        "    self.weight = weight\n",
        "    self.life_exp = life_exp\n",
        "    self.name = ''\n"
      ],
      "metadata": {
        "id": "tszdnz9X6F5J"
      },
      "execution_count": null,
      "outputs": []
    },
    {
      "cell_type": "code",
      "source": [
        "a = Animal([1,2,3],10.9,80)"
      ],
      "metadata": {
        "id": "JaCTbajv_Mvx"
      },
      "execution_count": null,
      "outputs": []
    },
    {
      "cell_type": "code",
      "source": [
        "class Car:\n",
        "  def __init__(self,make,model,year):\n",
        "    self.make = make\n",
        "    self.model = model\n",
        "    self.year = year\n",
        "    self.utility = 'SUV'\n",
        "\n",
        "  def accelerate(self):\n",
        "    print(f'The {self.make} accelerates.')"
      ],
      "metadata": {
        "id": "ZFePXyYIDR2P"
      },
      "execution_count": null,
      "outputs": []
    },
    {
      "cell_type": "code",
      "source": [
        "c = Car('Ford',150,'2023')\n",
        "d = Car('Chrysler',300,'2020')"
      ],
      "metadata": {
        "id": "xOXQolU_EyqE"
      },
      "execution_count": null,
      "outputs": []
    },
    {
      "cell_type": "code",
      "source": [
        "c.accelerate()"
      ],
      "metadata": {
        "id": "-Smxm5cvG96C"
      },
      "execution_count": null,
      "outputs": []
    },
    {
      "cell_type": "code",
      "source": [
        "Car.accelerate(c)"
      ],
      "metadata": {
        "colab": {
          "base_uri": "https://localhost:8080/"
        },
        "id": "1rZ-BdbjHCIB",
        "outputId": "27869fb7-806f-4256-d0f7-c3c1de1db735"
      },
      "execution_count": null,
      "outputs": [
        {
          "output_type": "stream",
          "name": "stdout",
          "text": [
            "The Ford accelerates.\n"
          ]
        }
      ]
    },
    {
      "cell_type": "code",
      "source": [
        "c.make"
      ],
      "metadata": {
        "id": "EMoR1yDIHdvi"
      },
      "execution_count": null,
      "outputs": []
    },
    {
      "cell_type": "code",
      "source": [
        "class Mortgage:\n",
        "  def __init__(self,amount,maturity,rate):\n",
        "    self.amount = amount\n",
        "    self.maturity = maturity\n",
        "    self.rate = rate\n",
        "\n",
        "  def get_rate(self):\n",
        "    return self.rate\n",
        "\n",
        "  def set_rate(self,newRate):\n",
        "    if newRate >= 0:\n",
        "      self.rate = newRate\n",
        "    else:\n",
        "      print('Please enter a non-negative value!')\n",
        "\n",
        "  def calculate(self):\n",
        "    r = self.rate\n",
        "    b = self.amount\n",
        "    n = 12*self.maturity\n",
        "    return b * (r * (1+r) ** n) / ((1+r) ** n - 1)"
      ],
      "metadata": {
        "id": "6RJKwDtBI_aG"
      },
      "execution_count": null,
      "outputs": []
    },
    {
      "cell_type": "code",
      "source": [
        "m = Mortgage(100000,30,.06)"
      ],
      "metadata": {
        "id": "X9rLVT9vJVcJ"
      },
      "execution_count": null,
      "outputs": []
    },
    {
      "cell_type": "code",
      "source": [
        "m.calculate()"
      ],
      "metadata": {
        "id": "OvcCK-GBJ8Df"
      },
      "execution_count": null,
      "outputs": []
    },
    {
      "cell_type": "code",
      "source": [
        "m.get_rate()"
      ],
      "metadata": {
        "colab": {
          "base_uri": "https://localhost:8080/"
        },
        "id": "Q6LTB4h-QDOh",
        "outputId": "f78bd47d-4a2f-4f36-8ed1-da06be88b0dd"
      },
      "execution_count": null,
      "outputs": [
        {
          "output_type": "execute_result",
          "data": {
            "text/plain": [
              "0.06"
            ]
          },
          "metadata": {},
          "execution_count": 85
        }
      ]
    },
    {
      "cell_type": "code",
      "source": [
        "m.set_rate(-1)"
      ],
      "metadata": {
        "id": "fplq1CClQPWf"
      },
      "execution_count": null,
      "outputs": []
    }
  ]
}