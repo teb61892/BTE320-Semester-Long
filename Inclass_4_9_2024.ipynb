{
  "nbformat": 4,
  "nbformat_minor": 0,
  "metadata": {
    "colab": {
      "provenance": [],
      "authorship_tag": "ABX9TyP2DUvTpUyAqOuvtsUT2Yfa",
      "include_colab_link": true
    },
    "kernelspec": {
      "name": "python3",
      "display_name": "Python 3"
    },
    "language_info": {
      "name": "python"
    }
  },
  "cells": [
    {
      "cell_type": "markdown",
      "metadata": {
        "id": "view-in-github",
        "colab_type": "text"
      },
      "source": [
        "<a href=\"https://colab.research.google.com/github/teb61892/BTE320-Semester-Long/blob/main/Inclass_4_9_2024.ipynb\" target=\"_parent\"><img src=\"https://colab.research.google.com/assets/colab-badge.svg\" alt=\"Open In Colab\"/></a>"
      ]
    },
    {
      "cell_type": "code",
      "execution_count": null,
      "metadata": {
        "colab": {
          "base_uri": "https://localhost:8080/",
          "height": 108
        },
        "id": "CQJE5BOu20k0",
        "outputId": "d0eefcfd-0c78-4c06-ba28-d6f13f68e5be"
      },
      "outputs": [
        {
          "output_type": "error",
          "ename": "IndentationError",
          "evalue": "unexpected indent (<ipython-input-22-9cb0e85af0c8>, line 5)",
          "traceback": [
            "\u001b[0;36m  File \u001b[0;32m\"<ipython-input-22-9cb0e85af0c8>\"\u001b[0;36m, line \u001b[0;32m5\u001b[0m\n\u001b[0;31m    try:\u001b[0m\n\u001b[0m    ^\u001b[0m\n\u001b[0;31mIndentationError\u001b[0m\u001b[0;31m:\u001b[0m unexpected indent\n"
          ]
        }
      ],
      "source": [
        "l = [1,2,3,4,5,6,7,8,9,2,4,6,8,6,4,3,4,6,67,4]\n",
        "def average(n):\n",
        "  avg = sum(n)/len(n)\n",
        "  return avg\n",
        "   try:\n",
        "    print(average(l))\n",
        "  except:\n",
        "    print(\"an error occured\")"
      ]
    },
    {
      "cell_type": "code",
      "source": [
        "def listAvg(alist):\n",
        "  try:\n",
        "    return sum(alist) / len(alist)\n",
        "  except TypeError:\n",
        "      print('The list does not contain numbers only')\n",
        "      return None\n",
        "    .except ZeroDivisionError:\n",
        "      print('The  list is empty')\n",
        "      return float('nan')\n",
        "l = [1,2,3,4,5]\n",
        "listAvg(l)"
      ],
      "metadata": {
        "colab": {
          "base_uri": "https://localhost:8080/",
          "height": 108
        },
        "id": "W0odwRfs57t9",
        "outputId": "91c4a860-379f-48f6-dc1c-05869d3915fd"
      },
      "execution_count": null,
      "outputs": [
        {
          "output_type": "error",
          "ename": "IndentationError",
          "evalue": "unindent does not match any outer indentation level (<tokenize>, line 7)",
          "traceback": [
            "\u001b[0;36m  File \u001b[0;32m\"<tokenize>\"\u001b[0;36m, line \u001b[0;32m7\u001b[0m\n\u001b[0;31m    except ZeroDivisionError:\u001b[0m\n\u001b[0m    ^\u001b[0m\n\u001b[0;31mIndentationError\u001b[0m\u001b[0;31m:\u001b[0m unindent does not match any outer indentation level\n"
          ]
        }
      ]
    }
  ]
}